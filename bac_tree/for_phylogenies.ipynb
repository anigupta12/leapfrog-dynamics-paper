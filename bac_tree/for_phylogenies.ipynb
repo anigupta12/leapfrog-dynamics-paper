{
 "cells": [
  {
   "cell_type": "code",
   "execution_count": 8,
   "metadata": {
    "inputHidden": false,
    "outputHidden": false
   },
   "outputs": [],
   "source": [
    "import numpy as np\n",
    "import matplotlib as ml\n",
    "import matplotlib.pyplot as plt\n",
    "import os\n",
    "import matplotlib as mpl\n",
    "import matplotlib.pyplot as plt\n",
    "import matplotlib.gridspec as gridspec\n",
    "#%matplotlib inline\n",
    "import numpy as np\n",
    "import pandas as pd\n",
    "import csv\n",
    "from matplotlib.legend_handler import HandlerBase\n",
    "from scipy.spatial.distance import hamming"
   ]
  },
  {
   "cell_type": "code",
   "execution_count": 9,
   "metadata": {
    "inputHidden": false,
    "outputHidden": false
   },
   "outputs": [],
   "source": [
    "path = ''\n",
    "file= path + 'bac_mutation_profile_for_phylogeny.csv'\n",
    "#file= path + 'mutation_profile_for_phylogeny_clean_OLD (test version).csv'\n",
    "with open(file, encoding='utf-8-sig') as f:  # REMOVE the utf-8 encoding if using older csv format to export from excel \n",
    "    reader = csv.reader(f)\n",
    "    datacsv = [r for r in reader] "
   ]
  },
  {
   "cell_type": "code",
   "execution_count": 10,
   "metadata": {
    "inputHidden": false,
    "outputHidden": false
   },
   "outputs": [],
   "source": [
    "f = open(\"bac_mut_profile.fasta\", \"w+\")\n",
    "\n",
    "for i in range(len(datacsv)):\n",
    "    header=datacsv[i][0]\n",
    "    data=datacsv[i][1:]\n",
    "# USE below 2 lines if datacsv has comma separated values\n",
    "#    header=datacsv[i][0].split(\";\")[0]   \n",
    "#    data=datacsv[i][0].split(\";\")[1:]\n",
    "    newdata=''\n",
    "    newdata=newdata.join(data)\n",
    "    newdata=newdata.replace(\"0\",\"A\")\n",
    "    newdata=newdata.replace(\"1\",\"C\")\n",
    "\n",
    "    line1='>'+header+'\\n'\n",
    "    line2=newdata+'\\n'\n",
    "    f.write(line1)\n",
    "    f.write(line2)\n",
    "\n",
    "f.close()"
   ]
  },
  {
   "cell_type": "code",
   "execution_count": 11,
   "metadata": {
    "inputHidden": false,
    "outputHidden": false
   },
   "outputs": [],
   "source": [
    "N=len(datacsv[0][1:])\n",
    "M=len(datacsv)\n",
    "dataMat=np.zeros([M,N])\n",
    "\n",
    "for i in range(M):\n",
    "    dataMat[i,:]=datacsv[i][1:]"
   ]
  },
  {
   "cell_type": "code",
   "execution_count": 12,
   "metadata": {
    "inputHidden": false,
    "outputHidden": false
   },
   "outputs": [],
   "source": [
    "dis=np.zeros([M,M],dtype=int)\n",
    "for i in range(M):\n",
    "    for j in range(M):\n",
    "        dis[i,j]=int(hamming(dataMat[i,:],dataMat[j,:])*N)"
   ]
  },
  {
   "cell_type": "code",
   "execution_count": 13,
   "metadata": {
    "inputHidden": false,
    "outputHidden": false
   },
   "outputs": [],
   "source": [
    "f = open(\"bac_hamming_distm.txt\", \"w+\")\n",
    "\n",
    "f.write(\"%i\\n\" % M)\n",
    "\n",
    "for i in range(M):\n",
    "    header=datacsv[i][0]\n",
    "    \n",
    "    f.write(header+' ')\n",
    "    for j in dis[i,:].tolist():\n",
    "        f.write(\"%i \" % j)\n",
    "    f.write('\\n')\n",
    "\n",
    "f.close()"
   ]
  },
  {
   "cell_type": "code",
   "execution_count": 14,
   "metadata": {},
   "outputs": [
    {
     "data": {
      "text/plain": [
       "18"
      ]
     },
     "execution_count": 14,
     "metadata": {},
     "output_type": "execute_result"
    }
   ],
   "source": [
    "len(datacsv[0][1:])"
   ]
  },
  {
   "cell_type": "code",
   "execution_count": null,
   "metadata": {},
   "outputs": [],
   "source": []
  }
 ],
 "metadata": {
  "kernel_info": {
   "name": "python3"
  },
  "kernelspec": {
   "display_name": "Python 3 (ipykernel)",
   "language": "python",
   "name": "python3"
  },
  "language_info": {
   "codemirror_mode": {
    "name": "ipython",
    "version": 3
   },
   "file_extension": ".py",
   "mimetype": "text/x-python",
   "name": "python",
   "nbconvert_exporter": "python",
   "pygments_lexer": "ipython3",
   "version": "3.9.7"
  },
  "nteract": {
   "version": "0.12.3"
  }
 },
 "nbformat": 4,
 "nbformat_minor": 4
}
